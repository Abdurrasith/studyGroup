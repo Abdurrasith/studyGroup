{
 "cells": [
  {
   "cell_type": "markdown",
   "metadata": {},
   "source": [
    "# The Class Structure in Python\n",
    "Adapted from: https://www.jeffknupp.com/blog/2014/06/18/improve-your-python-python-classes-and-object-oriented-programming/\n",
    "\n",
    "## What is a Class?\n",
    "\n",
    "A class is a structure in Python that can be used as a blueprint to create objects that have \n",
    "1. prototyped features, \"attributes\" that are variable\n",
    "2. \"methods\" which are functions that can be applied to the object that is created, or rather, an instance of that class. "
   ]
  },
  {
   "cell_type": "markdown",
   "metadata": {},
   "source": [
    "## Defining a Class\n",
    "\n",
    "We want to define a class called *client* in which a new instance stores a client's name, balance, and account level."
   ]
  },
  {
   "cell_type": "code",
   "execution_count": null,
   "metadata": {
    "collapsed": true
   },
   "outputs": [],
   "source": [
    "# create the client class below\n",
    "class Client(object):\n",
    "    def __init__(self,name, balance):  #This defines how a new instance of class \"client\" can be created\n",
    "        self.name = name                     \n",
    "        self.balance = balance + 100\n",
    "        \n",
    "        #Defining Account Level\n",
    "        if self.balance < 5000:\n",
    "            self.level = \"Basic\"\n",
    "        elif self.balance < 15000:\n",
    "            self.level = \"Intermediate\"\n",
    "        else:\n",
    "            self.level = \"Advanced\""
   ]
  },
  {
   "cell_type": "markdown",
   "metadata": {},
   "source": [
    "The **attributes** in *client* are *name, balance* and *level*. \n",
    "\n",
    "def `__init__` is what we use when creating classes to define how we can create a new instance of this class. \n",
    "\n",
    "The arguments of `__init__` are required input when creating a new instance of this class, except for 'self'. \n",
    "\n",
    "**Note**: \"self.name\" and \"name\" are different variables. Here they represent the same values, but in other cases, this may lead to problems. For example, here the bank has decided to update \"self.balance\" by giving all new members a bonus $100 on top of what they're putting in the bank. Calling \"balance\" for other calculations will not have the correct value."
   ]
  },
  {
   "cell_type": "markdown",
   "metadata": {},
   "source": [
    "### Creating an Instance of a Class\n",
    "\n",
    "Now, lets try creating some new clients:"
   ]
  },
  {
   "cell_type": "code",
   "execution_count": null,
   "metadata": {
    "collapsed": false
   },
   "outputs": [],
   "source": [
    "John_Doe = Client(\"John Doe\", 500)\n",
    "Jane_Defoe = Client(\"Jane Defoe\", 150000)"
   ]
  },
  {
   "cell_type": "markdown",
   "metadata": {},
   "source": [
    "We can see the attributes of John_Doe, or Jane_Defoe by calling them:"
   ]
  },
  {
   "cell_type": "code",
   "execution_count": null,
   "metadata": {
    "collapsed": false
   },
   "outputs": [],
   "source": [
    "print John_Doe.name\n",
    "print John_Doe.balance\n",
    "print Jane_Defoe.level"
   ]
  },
  {
   "cell_type": "markdown",
   "metadata": {},
   "source": [
    "We can also add, remove or modify attributes as we like:"
   ]
  },
  {
   "cell_type": "code",
   "execution_count": null,
   "metadata": {
    "collapsed": true
   },
   "outputs": [],
   "source": [
    "John_Doe.email = \"jdoe23@gmail.com\"     #add a new attribute called \"email\"\n",
    "John_Doe.email = \"john.doe@gmail.com\"   #modify the existing email attribute\n",
    "del John_Doe.email                      #delete the email attribute"
   ]
  },
  {
   "cell_type": "markdown",
   "metadata": {},
   "source": [
    "You can also use the following instead instead of the normal statements:\n",
    "\n",
    "- The getattr(obj, name[, default]) : to access the attribute of object.\n",
    "\n",
    "- The hasattr(obj,name) : to check if an attribute exists or not.\n",
    "\n",
    "- The setattr(obj,name,value) : to set an attribute. If attribute does not exist, then it would be created.\n",
    "\n",
    "- The delattr(obj, name) : to delete an attribute."
   ]
  },
  {
   "cell_type": "markdown",
   "metadata": {},
   "source": [
    "### Class Attributes vs. Normal Attributes\n",
    "\n",
    "A class attribute is an attribute set at the class-level rather than the instance-level, such that the value of this attribute will be the same across all instances.\n",
    "\n",
    "For our *client* class, we might want to set the name of the bank, and the location, which would not change from instance to instance."
   ]
  },
  {
   "cell_type": "code",
   "execution_count": null,
   "metadata": {
    "collapsed": false
   },
   "outputs": [],
   "source": [
    "Client.bank = \"TD\"\n",
    "Client.location = \"Toronto\""
   ]
  },
  {
   "cell_type": "code",
   "execution_count": null,
   "metadata": {
    "collapsed": false
   },
   "outputs": [],
   "source": [
    "print Client.bank\n",
    "print John_Doe.location"
   ]
  },
  {
   "cell_type": "markdown",
   "metadata": {},
   "source": [
    "### Methods\n",
    "\n",
    "*Methods* are functions that can be applied (only) to instances of your class. \n",
    "\n",
    "For example, in the case of our 'client' class, we may want to update a person's bank account once they withdraw or deposit money. Let's create these methods below. \n",
    "\n",
    "Note that each method takes 'self' as an argument along with the arguments required when calling this method."
   ]
  },
  {
   "cell_type": "code",
   "execution_count": null,
   "metadata": {
    "collapsed": true
   },
   "outputs": [],
   "source": [
    "class Client(object):\n",
    "    def __init__(self,name, balance):  #This defines how a new instance of class \"client\" can be created\n",
    "        self.name = name                     \n",
    "        self.balance = balance + 100\n",
    "        \n",
    "        #Defining Account Level\n",
    "        if balance < 10000:\n",
    "            self.level = \"Bronze\"\n",
    "        elif balance < 50000:\n",
    "            self.level = \"Silver\"\n",
    "        elif balance < 250000:\n",
    "            self.level = \"Gold\"\n",
    "        else:\n",
    "            self.level = \"Platinum\"\n",
    "            \n",
    "    def deposit(self, amount):\n",
    "        self.balance += amount\n",
    "        return self.balance\n",
    "    \n",
    "    def withdraw(self, amount):\n",
    "        if amount > self.balance:\n",
    "            raise RuntimeError(\"Insufficient funds for withdrawal\")\n",
    "        else: \n",
    "            self.balance -= amount\n",
    "        return self.balance"
   ]
  },
  {
   "cell_type": "markdown",
   "metadata": {},
   "source": [
    "#### What is \"self\"? \n",
    "`*`*not in the philosophical sense*`*`\n",
    "\n",
    "In the method, withdraw(self, amount), the self refers to the *instance* upon which we are applying the instructions of the method. \n",
    "\n",
    "When we call a method, **f(self, arg)**, on the object **x**, we use **x.f(arg)**.\n",
    "- **x** is passed as the first argument, *self*, by default and all that is required are the other arguments that comprise the function. \n",
    "\n",
    "It is equivalent to calling **myClass.f(x, arg)**.\n",
    "Try it yourself with the client class and one of the methods we've written."
   ]
  },
  {
   "cell_type": "code",
   "execution_count": null,
   "metadata": {
    "collapsed": false
   },
   "outputs": [],
   "source": [
    "# Try calling a method two different ways\n",
    "Client.withdraw(John_Doe, 200)\n",
    "Jane_Defoe.deposit(10000)\n"
   ]
  },
  {
   "cell_type": "markdown",
   "metadata": {},
   "source": [
    "### Static Methods \n",
    "\n",
    "Static methods are methods that belong to a class but do not have access to *self* and hence don't require an instance to function (i.e. it will work on the class level as well as the instance level). \n",
    "\n",
    "We denote these with the line \"@staticmethod\" before we define our static method."
   ]
  },
  {
   "cell_type": "code",
   "execution_count": null,
   "metadata": {
    "collapsed": false
   },
   "outputs": [],
   "source": [
    "class Client(object):\n",
    "    \n",
    "    bank = \"TD\"\n",
    "    location = \"Toronto\"\n",
    "    \n",
    "    def __init__(self,name, balance):  #This defines how a new instance of class \"client\" can be created\n",
    "        self.name = name                     \n",
    "        self.balance = balance + 100\n",
    "        \n",
    "        \n",
    "        #Defining Account Level\n",
    "        if balance < 10000:\n",
    "            self.level = \"Bronze\"\n",
    "        elif balance < 50000:\n",
    "            self.level = \"Silver\"\n",
    "        elif balance < 250000:\n",
    "            self.level = \"Gold\"\n",
    "        else:\n",
    "            self.level = \"Platinum\"\n",
    "            \n",
    "    def deposit(self, amount):\n",
    "        self.balance += amount\n",
    "        return self.balance\n",
    "    \n",
    "    def withdraw(self, amount):\n",
    "        if amount > self.balance:\n",
    "            raise RuntimeError(\"Insufficient funds for withdrawal\")\n",
    "        else: \n",
    "            self.balance -= amount\n",
    "        return self.balance\n",
    "    \n",
    "    @staticmethod\n",
    "    def make_money_sound():\n",
    "        print 'Cha-ching!'\n"
   ]
  },
  {
   "cell_type": "code",
   "execution_count": null,
   "metadata": {
    "collapsed": false
   },
   "outputs": [],
   "source": [
    "Jane_Defoe.make_money_sound()"
   ]
  },
  {
   "cell_type": "markdown",
   "metadata": {},
   "source": [
    "### Class Methods\n",
    "\n",
    "A class method is a type of method that will receive the class rather than the instance as the first parameter. It is also identified similarly to a static method, with \"@classmethod\"."
   ]
  },
  {
   "cell_type": "code",
   "execution_count": null,
   "metadata": {
    "collapsed": true
   },
   "outputs": [],
   "source": [
    "class Client(object):\n",
    "    \n",
    "    bank = \"TD\"\n",
    "    location = \"Toronto\"\n",
    "    \n",
    "    def __init__(self,name, balance):  #This defines how a new instance of class \"client\" can be created\n",
    "        self.name = name                     \n",
    "        self.balance = balance + 100\n",
    "        \n",
    "        \n",
    "        #Defining Account Level\n",
    "        if balance < 10000:\n",
    "            self.level = \"Bronze\"\n",
    "        elif balance < 50000:\n",
    "            self.level = \"Silver\"\n",
    "        elif balance < 250000:\n",
    "            self.level = \"Gold\"\n",
    "        else:\n",
    "            self.level = \"Platinum\"\n",
    "            \n",
    "    def deposit(self, amount):\n",
    "        self.balance += amount\n",
    "        return self.balance\n",
    "    \n",
    "    def withdraw(self, amount):\n",
    "        if amount > self.balance:\n",
    "            raise RuntimeError(\"Insufficient funds for withdrawal\")\n",
    "        else: \n",
    "            self.balance -= amount\n",
    "        return self.balance\n",
    "    \n",
    "    @classmethod\n",
    "    def bank_location(cls):\n",
    "        return str(cls.bank + ' ' + cls.location)"
   ]
  },
  {
   "cell_type": "markdown",
   "metadata": {},
   "source": [
    "### Key Concept: Inheritance\n",
    "\n",
    "A 'child' class can be created from a 'parent' class, whereby the child will bring over attributes and methods that it's parent has, but where new features can be created as well. \n",
    "\n",
    "This would be useful if you want to create multiple classes that would have some features that are kept the same between them. You would simply create a parent class of these children classes that have those maintained features.\n",
    "\n",
    "Imagine we want to create different types of clients but still have all the base attributes and methods found in client currently. \n",
    "\n",
    "For example, let's create a class called *savings* that inherits from the *client* class. In doing so, we do not need to write another `__init__` method as it will inherit this from it's parent."
   ]
  },
  {
   "cell_type": "code",
   "execution_count": null,
   "metadata": {
    "collapsed": true
   },
   "outputs": [],
   "source": [
    "class Savings(Client):\n",
    "    interest_rate = 0.005\n",
    "    \n",
    "    def add_interest(self):\n",
    "        self.balance += self.balance*self.interest_rate\n",
    "        return self.balance\n",
    "    "
   ]
  },
  {
   "cell_type": "code",
   "execution_count": null,
   "metadata": {
    "collapsed": false
   },
   "outputs": [],
   "source": [
    "# create an instance the same way as a client\n",
    "Lina_Tran = Savings(\"Lina Tran\", 50)"
   ]
  },
  {
   "cell_type": "code",
   "execution_count": null,
   "metadata": {
    "collapsed": false
   },
   "outputs": [],
   "source": [
    "Lina_Tran.add_interest()"
   ]
  },
  {
   "cell_type": "code",
   "execution_count": null,
   "metadata": {
    "collapsed": false
   },
   "outputs": [],
   "source": [
    "# has access to methods and attributes from the client class as well\n",
    "Lina_Tran.deposit(200)"
   ]
  }
 ],
 "metadata": {
  "kernelspec": {
   "display_name": "Python 2",
   "language": "python",
   "name": "python2"
  },
  "language_info": {
   "codemirror_mode": {
    "name": "ipython",
    "version": 2
   },
   "file_extension": ".py",
   "mimetype": "text/x-python",
   "name": "python",
   "nbconvert_exporter": "python",
   "pygments_lexer": "ipython2",
   "version": "2.7.10"
  }
 },
 "nbformat": 4,
 "nbformat_minor": 0
}
