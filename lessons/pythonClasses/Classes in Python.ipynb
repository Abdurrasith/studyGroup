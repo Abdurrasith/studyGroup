{
 "cells": [
  {
   "cell_type": "markdown",
   "metadata": {},
   "source": [
    "### What is a Class?\n",
    "\n",
    "A class is a structure in Python that can be used as a blueprint to create objects that have prototyped features, \"attributes\",\n",
    "that are variable, as well as \"methods\" which are functions that can be applied to the object. "
   ]
  },
  {
   "cell_type": "markdown",
   "metadata": {},
   "source": [
    "## Defining a Class\n"
   ]
  },
  {
   "cell_type": "code",
   "execution_count": null,
   "metadata": {
    "collapsed": true
   },
   "outputs": [],
   "source": [
    "class client:\n",
    "    def __init__(self,name, balance):  #This defines how a new instance of class \"client\" can be created\n",
    "        self.name = name                     \n",
    "        self.balance = balance\n",
    "        \n",
    "        #Defining Account Level\n",
    "        if balance < 10000:\n",
    "            self.level = \"Bronze\"\n",
    "        elif balance < 50000:\n",
    "            self.level = \"Silver\"\n",
    "        elif balance < 250000:\n",
    "            self.level = \"Gold\"\n",
    "        else:\n",
    "            self.level = \"Platinum\""
   ]
  },
  {
   "cell_type": "markdown",
   "metadata": {},
   "source": [
    "The **attributes**in client are name, and balance and level. The arguments of `__init__` are required input when creating a new instance of this class, except for 'self'. \n",
    "\n",
    "**Note**: \"self.name\" and \"name\" are different variables. Here they represent the same values, but in other cases, this may lead to problems. For example, you may choose to update \"self.balance\" by giving all new members a bonus $100 on top of what they're putting in the bank. Calling \"balance\" for other calculations will not have the correct value.\n",
    "\n",
    "### Creating an Instance of a Class\n",
    "\n",
    "Now, lets try creating some new clients:"
   ]
  },
  {
   "cell_type": "code",
   "execution_count": null,
   "metadata": {
    "collapsed": false
   },
   "outputs": [],
   "source": [
    "John_Doe = client(\"John Doe\", 500)\n",
    "Jane_Defoe = client(\"Jane Defoe\", 150000)"
   ]
  },
  {
   "cell_type": "code",
   "execution_count": null,
   "metadata": {
    "collapsed": false
   },
   "outputs": [],
   "source": [
    "#See attributes of John_Doe, or Jane_Defoe:\n",
    "print John_Doe.name\n",
    "print John_Doe.balance\n",
    "print Jane_Defoe.level"
   ]
  },
  {
   "cell_type": "code",
   "execution_count": 15,
   "metadata": {
    "collapsed": true
   },
   "outputs": [],
   "source": [
    "#Create a new attribute\n"
   ]
  },
  {
   "cell_type": "markdown",
   "metadata": {},
   "source": [
    "## Class Methods\n",
    "\n",
    "*Methods* are functions that can be applied (only) to instances of your class. \n",
    "\n",
    "For example, in the case of our 'client' class, we may want to update a person's bank account once they withdraw or deposit money. Let's create these methods below."
   ]
  },
  {
   "cell_type": "code",
   "execution_count": null,
   "metadata": {
    "collapsed": true
   },
   "outputs": [],
   "source": []
  },
  {
   "cell_type": "markdown",
   "metadata": {},
   "source": [
    "#### What is \"self\"? \n",
    "*not in the philosophical sense*\n",
    "\n",
    "In the method, withdraw(self, amount), the self refers to the *instance* upon which we are applying the instructions of the method. \n"
   ]
  },
  {
   "cell_type": "code",
   "execution_count": null,
   "metadata": {
    "collapsed": true
   },
   "outputs": [],
   "source": []
  }
 ],
 "metadata": {
  "kernelspec": {
   "display_name": "Python 2",
   "language": "python",
   "name": "python2"
  },
  "language_info": {
   "codemirror_mode": {
    "name": "ipython",
    "version": 2
   },
   "file_extension": ".py",
   "mimetype": "text/x-python",
   "name": "python",
   "nbconvert_exporter": "python",
   "pygments_lexer": "ipython2",
   "version": "2.7.10"
  }
 },
 "nbformat": 4,
 "nbformat_minor": 0
}
