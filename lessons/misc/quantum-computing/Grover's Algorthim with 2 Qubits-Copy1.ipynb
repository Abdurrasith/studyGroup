{
 "cells": [
  {
   "cell_type": "markdown",
   "metadata": {},
   "source": [
    "# Simulating Grover's Search Algorithm with 2 Qubits"
   ]
  },
  {
   "cell_type": "code",
   "execution_count": 2,
   "metadata": {
    "collapsed": true
   },
   "outputs": [],
   "source": [
    "import numpy as np\n",
    "from matplotlib import pyplot as plt\n",
    "%matplotlib inline"
   ]
  },
  {
   "cell_type": "markdown",
   "metadata": {},
   "source": [
    "Define the zero and one vectors\n",
    "Define the initial state $\\psi$"
   ]
  },
  {
   "cell_type": "code",
   "execution_count": null,
   "metadata": {},
   "outputs": [],
   "source": []
  },
  {
   "cell_type": "markdown",
   "metadata": {},
   "source": [
    "Define the gates we will use:\n",
    "\n",
    "$\n",
    "\\text{Id} = \\begin{pmatrix} \n",
    "1 & 0  \\\\\n",
    "0 & 1  \n",
    "\\end{pmatrix},\n",
    "\\quad\n",
    "X = \\begin{pmatrix} \n",
    "0 & 1   \\\\\n",
    "1 & 0  \n",
    "\\end{pmatrix},\n",
    "\\quad\n",
    "Z = \\begin{pmatrix} \n",
    "1 &  0 \\\\\n",
    "0 & -1 \n",
    "\\end{pmatrix},\n",
    "\\quad\n",
    "H = \\frac{1}{\\sqrt{2}}\\begin{pmatrix} \n",
    "1 & 1   \\\\\n",
    "1 & -1  \n",
    "\\end{pmatrix},\n",
    "\\quad\n",
    "\\text{CNOT} = \\begin{pmatrix} \n",
    "1 & 0 & 0 & 0 \\\\\n",
    "0 & 1 & 0 & 0 \\\\  \n",
    "0 & 0 & 0 & 1 \\\\\n",
    "0 & 0 & 1 & 0\n",
    "\\end{pmatrix},\n",
    "\\quad\n",
    "CZ = (\\text{Id} \\otimes H) \\text{ CNOT } (\\text{Id} \\otimes H) \n",
    "$"
   ]
  },
  {
   "cell_type": "code",
   "execution_count": null,
   "metadata": {},
   "outputs": [],
   "source": []
  },
  {
   "cell_type": "markdown",
   "metadata": {},
   "source": [
    "Define the oracle for Grover's algorithm  (take search answer to be \"10\")\n",
    "\n",
    "$\n",
    "\\text{oracle} = \\begin{pmatrix} \n",
    "1 & 0 & 0 & 0  \\\\\n",
    "0 & 1 & 0 & 0 \\\\\n",
    "0 & 0 & -1 & 0 \\\\\n",
    "0 & 0 & 0 & 1\n",
    "\\end{pmatrix}\n",
    "= (Z \\otimes \\text{Id})  CZ\n",
    "$\n",
    "\n",
    "Use different combinations of $Z \\otimes \\text{Id}$ to change where search answer is. "
   ]
  },
  {
   "cell_type": "code",
   "execution_count": null,
   "metadata": {},
   "outputs": [],
   "source": []
  },
  {
   "cell_type": "markdown",
   "metadata": {},
   "source": [
    "Act the H gates on the input vector and apply the oracle "
   ]
  },
  {
   "cell_type": "code",
   "execution_count": null,
   "metadata": {},
   "outputs": [],
   "source": []
  },
  {
   "cell_type": "markdown",
   "metadata": {},
   "source": [
    "Remember that when we measure the result (\"00\", \"01\", \"10\", \"11\") is chosen randomly with probabilities given by the vector elements squared."
   ]
  },
  {
   "cell_type": "code",
   "execution_count": null,
   "metadata": {},
   "outputs": [],
   "source": []
  },
  {
   "cell_type": "markdown",
   "metadata": {},
   "source": [
    "There is no difference between any of the probabilities. It's still just a 25% chance of getting the right answer. \n",
    "\n",
    "We need some of gates after the oracle before measuring to converge on the right answer.  \n",
    "\n",
    "These gates do the operation $W = \\frac{1}{2}\\begin{pmatrix} \n",
    "-1 & 1 & 1 & 1  \\\\\n",
    "1 & -1 & 1 & 1 \\\\\n",
    "1 & 1 & -1 & 1 \\\\\n",
    "1 & 1 & 1 & -1\n",
    "\\end{pmatrix}\n",
    "=\n",
    "(H \\otimes H)(Z \\otimes Z) CZ (H \\otimes H)\n",
    "$\n",
    "\n",
    "Notice that if the matrix W is multiplied by the vector after the oracle, W $\\frac{1}{2}\\begin{pmatrix} \n",
    "1 \\\\\n",
    "1 \\\\\n",
    "-1 \\\\\n",
    "1\n",
    "\\end{pmatrix} \n",
    "= \\begin{pmatrix} \n",
    "0 \\\\\n",
    "0 \\\\\n",
    "1 \\\\\n",
    "0\n",
    "\\end{pmatrix}  $,\n",
    "every vector element decreases, except the correct answer element which increases. This would be true if if we chose a different place for the search result originally."
   ]
  },
  {
   "cell_type": "code",
   "execution_count": null,
   "metadata": {},
   "outputs": [],
   "source": []
  },
  {
   "cell_type": "code",
   "execution_count": null,
   "metadata": {},
   "outputs": [],
   "source": []
  },
  {
   "cell_type": "code",
   "execution_count": null,
   "metadata": {},
   "outputs": [],
   "source": []
  },
  {
   "cell_type": "code",
   "execution_count": null,
   "metadata": {},
   "outputs": [],
   "source": []
  },
  {
   "cell_type": "code",
   "execution_count": null,
   "metadata": {},
   "outputs": [],
   "source": []
  },
  {
   "cell_type": "code",
   "execution_count": null,
   "metadata": {
    "collapsed": true
   },
   "outputs": [],
   "source": []
  }
 ],
 "metadata": {
  "kernelspec": {
   "display_name": "Python 3",
   "language": "python",
   "name": "python3"
  },
  "language_info": {
   "codemirror_mode": {
    "name": "ipython",
    "version": 3
   },
   "file_extension": ".py",
   "mimetype": "text/x-python",
   "name": "python",
   "nbconvert_exporter": "python",
   "pygments_lexer": "ipython3",
   "version": "3.6.2"
  }
 },
 "nbformat": 4,
 "nbformat_minor": 2
}
